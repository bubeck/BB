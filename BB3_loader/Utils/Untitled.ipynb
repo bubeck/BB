{
 "cells": [
  {
   "cell_type": "code",
   "execution_count": 4,
   "metadata": {},
   "outputs": [
    {
     "name": "stdout",
     "output_type": "stream",
     "text": [
      "481525118 170626739\n",
      "48091507N\n"
     ]
    }
   ],
   "source": [
    "GNSS_MUL=10000000\n",
    "\n",
    "lat = int(48.15251181212888 * GNSS_MUL)\n",
    "lon = int(17.062673992848257 * GNSS_MUL)\n",
    "\n",
    "print(lat, lon)\n",
    "\n",
    "alat = abs(lat);\n",
    "alon = abs(lon);\n",
    "mlat = ((alat % GNSS_MUL) * 60);\n",
    "mlon = ((alon % GNSS_MUL) * 60);\n",
    "mlat1 = mlat / GNSS_MUL;\n",
    "mlon1 = mlon / GNSS_MUL;\n",
    "mlat2 = (mlat % GNSS_MUL) / 1000;\n",
    "mlon2 = (mlon % GNSS_MUL) / 1000;\n",
    "\n",
    "print(\"%02u%02u%03u%c\" % (alat / GNSS_MUL, mlat1, mlat2, 'N'))"
   ]
  }
 ],
 "metadata": {
  "kernelspec": {
   "display_name": "Python 3",
   "language": "python",
   "name": "python3"
  },
  "language_info": {
   "codemirror_mode": {
    "name": "ipython",
    "version": 3
   },
   "file_extension": ".py",
   "mimetype": "text/x-python",
   "name": "python",
   "nbconvert_exporter": "python",
   "pygments_lexer": "ipython3",
   "version": "3.8.10"
  }
 },
 "nbformat": 4,
 "nbformat_minor": 4
}
