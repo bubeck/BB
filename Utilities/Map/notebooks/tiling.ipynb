{
 "cells": [
  {
   "cell_type": "code",
   "execution_count": 44,
   "id": "899530bb",
   "metadata": {},
   "outputs": [],
   "source": [
    "MAP_W = 200\n",
    "GNSS_MUL = 10000000\n",
    "step_x = 48048\n",
    "\n",
    "def a(lon):\n",
    "    map_w = (MAP_W * step_x)\n",
    "    number_of_cols = 1 + GNSS_MUL // map_w\n",
    "    col_div = GNSS_MUL // number_of_cols\n",
    "    c_lon = (lon // GNSS_MUL) * GNSS_MUL + ((lon % GNSS_MUL) // col_div) * col_div + col_div // 2\n",
    "\n",
    "    return c_lon\n"
   ]
  },
  {
   "cell_type": "code",
   "execution_count": 45,
   "id": "ffe60fa2",
   "metadata": {},
   "outputs": [
    {
     "name": "stdout",
     "output_type": "stream",
     "text": [
      "0 150000000 152500000 152500000\n",
      "1 155000000 157500000 5000000\n",
      "2 160000000 162500000 5000000\n",
      "3 165000000 167500000 5000000\n",
      "4 170000000 172500000 5000000\n",
      "5 175000000 177500000 5000000\n",
      "6 180000000 182500000 5000000\n",
      "7 185000000 187500000 5000000\n",
      "8 190000000 192500000 5000000\n",
      "9 195000000 197500000 5000000\n"
     ]
    }
   ],
   "source": [
    "\n",
    "lon = 147378159\n",
    "\n",
    "old_old = 0\n",
    "\n",
    "for i in range(10):\n",
    "    old_res = 0\n",
    "    while(1):\n",
    "        res = a(lon)\n",
    "\n",
    "\n",
    "        if old_res == 0: old_res = res\n",
    "        if (old_res != res): \n",
    "            print(i, lon, res, res - old_old)\n",
    "            old_old = res\n",
    "            break\n",
    "        old_res = res\n",
    "        lon += 1"
   ]
  }
 ],
 "metadata": {
  "kernelspec": {
   "display_name": "Python 3 (ipykernel)",
   "language": "python",
   "name": "python3"
  },
  "language_info": {
   "codemirror_mode": {
    "name": "ipython",
    "version": 3
   },
   "file_extension": ".py",
   "mimetype": "text/x-python",
   "name": "python",
   "nbconvert_exporter": "python",
   "pygments_lexer": "ipython3",
   "version": "3.10.6"
  }
 },
 "nbformat": 4,
 "nbformat_minor": 5
}
