{
 "cells": [
  {
   "cell_type": "code",
   "execution_count": 2,
   "id": "1370ca60",
   "metadata": {},
   "outputs": [],
   "source": [
    "def intersection( x1, y1, x2, y2, x3, y3, x4, y4):\n",
    "    d = (x1-x2) * (y3-y4) - (y1-y2)*(x3-x4)\n",
    "    if d == 0:\n",
    "        return None\n",
    "\n",
    "    p_x = ((x1*y2-y1*x2)*(x3-x4) - (x1-x2)*(x3*y4-y3*x4))//d\n",
    "    p_y = ((x1*y2-y1*x2)*(y3-y4) - (y1-y2)*(x3*y4-y3*x4))//d\n",
    "    \n",
    "    return p_x, p_y\n",
    "\n",
    "def in_bounding_box(x1, y1, x2, y2, p_x, p_y):\n",
    "    print(x1, y1, x2, y2, p_x, p_y)\n",
    "    \n",
    "    x_min = min(x1, x2)\n",
    "    x_max = max(x1, x2)\n",
    "    y_min = min(y1, y2)\n",
    "    y_max = max(y1, y2)\n",
    "    \n",
    "    return p_x>=x_min and p_x<=x_max and p_y>=y_min and p_y<=y_max;\n",
    "\n",
    "\n",
    "def intersect2(x1, y1, x2, y2, x3, y3, x4, y4):\n",
    "    res = intersection(x1,y1,x2,y2,x3,y3,x4,y4)\n",
    "    if res == None: \n",
    "        return None\n",
    "\n",
    "    p_x, p_y = res\n",
    "    \n",
    "    inside1 = in_bounding_box(x1,y1,x2,y2,p_x,p_y) \n",
    "    inside2 = in_bounding_box(x3,y3,x4,y4,p_x,p_y)\n",
    "    \n",
    "    return p_x, p_y, inside1, inside2\n"
   ]
  },
  {
   "cell_type": "code",
   "execution_count": 3,
   "id": "0360145c",
   "metadata": {},
   "outputs": [
    {
     "name": "stdout",
     "output_type": "stream",
     "text": [
      "Using matplotlib backend: TkAgg\n",
      "0 -2 -5 10 -1 -1\n",
      "0 0 -5 -5 -1 -1\n",
      "(-1, -1, True, True)\n"
     ]
    }
   ],
   "source": [
    "%matplotlib\n",
    "import matplotlib.pyplot as plt\n",
    "\n",
    "x1 = 0\n",
    "y1 = -2\n",
    "x2 = -5\n",
    "y2 = 10\n",
    "\n",
    "x3 = 0\n",
    "y3 = 0\n",
    "x4 = -5\n",
    "y4 = -5\n",
    "\n",
    "plt.plot([x1, x2], [y1, y2], \"-r\")\n",
    "plt.plot([x3, x4], [y3, y4], \"-b\")\n",
    "\n",
    "\n",
    "res = intersect2(x1, y1, x2, y2, x3, y3, x4, y4)\n",
    "print(res)\n",
    "\n",
    "if res != None:\n",
    "    px, py, __, __ = res\n",
    "    plt.plot([px], [py], \"*k\")\n"
   ]
  }
 ],
 "metadata": {
  "kernelspec": {
   "display_name": "Python 3 (ipykernel)",
   "language": "python",
   "name": "python3"
  },
  "language_info": {
   "codemirror_mode": {
    "name": "ipython",
    "version": 3
   },
   "file_extension": ".py",
   "mimetype": "text/x-python",
   "name": "python",
   "nbconvert_exporter": "python",
   "pygments_lexer": "ipython3",
   "version": "3.10.4"
  }
 },
 "nbformat": 4,
 "nbformat_minor": 5
}
